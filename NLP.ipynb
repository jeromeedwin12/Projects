{
 "cells": [
  {
   "cell_type": "code",
   "execution_count": 1,
   "id": "a5165926",
   "metadata": {},
   "outputs": [],
   "source": [
    "text = \"India, officially the Republic of India is a country in South Asia. It is the second-most populous country, the seventh-largest country by land area, and the most populous democracy in the world. Bounded by the Indian Ocean on the south, the Arabian Sea on the southwest, and the Bay of Bengal on the southeast, it shares land borders with Pakistan to the west; China, Nepal, and Bhutan to the north; and Bangladesh and Myanmar to the east.\""
   ]
  },
  {
   "cell_type": "code",
   "execution_count": 2,
   "id": "3739c9e4",
   "metadata": {},
   "outputs": [
    {
     "data": {
      "text/plain": [
       "440"
      ]
     },
     "execution_count": 2,
     "metadata": {},
     "output_type": "execute_result"
    }
   ],
   "source": [
    "len(text)"
   ]
  },
  {
   "cell_type": "code",
   "execution_count": 3,
   "id": "a6e152ff",
   "metadata": {},
   "outputs": [
    {
     "name": "stdout",
     "output_type": "stream",
     "text": [
      "Requirement already satisfied: nltk in c:\\python39\\lib\\site-packages (3.7)\n",
      "Requirement already satisfied: click in c:\\python39\\lib\\site-packages (from nltk) (7.1.2)\n",
      "Requirement already satisfied: tqdm in c:\\python39\\lib\\site-packages (from nltk) (4.64.0)\n",
      "Requirement already satisfied: regex>=2021.8.3 in c:\\python39\\lib\\site-packages (from nltk) (2022.4.24)\n",
      "Requirement already satisfied: joblib in c:\\python39\\lib\\site-packages (from nltk) (1.1.0)\n",
      "Requirement already satisfied: colorama in c:\\python39\\lib\\site-packages (from tqdm->nltk) (0.4.4)\n",
      "Note: you may need to restart the kernel to use updated packages.\n"
     ]
    },
    {
     "name": "stderr",
     "output_type": "stream",
     "text": [
      "WARNING: You are using pip version 22.0.4; however, version 22.1 is available.\n",
      "You should consider upgrading via the 'c:\\python39\\python.exe -m pip install --upgrade pip' command.\n"
     ]
    }
   ],
   "source": [
    "pip install nltk"
   ]
  },
  {
   "cell_type": "code",
   "execution_count": 4,
   "id": "f963579b",
   "metadata": {},
   "outputs": [],
   "source": [
    "import nltk\n",
    "\n",
    "#(natural language tool kit)"
   ]
  },
  {
   "cell_type": "code",
   "execution_count": 61,
   "id": "4d5a394f",
   "metadata": {},
   "outputs": [
    {
     "data": {
      "text/plain": [
       "['India,',\n",
       " 'officially',\n",
       " 'the',\n",
       " 'Republic',\n",
       " 'of',\n",
       " 'India',\n",
       " 'is',\n",
       " 'a',\n",
       " 'country',\n",
       " 'in',\n",
       " 'South',\n",
       " 'Asia.',\n",
       " 'It',\n",
       " 'is',\n",
       " 'the',\n",
       " 'second-most',\n",
       " 'populous',\n",
       " 'country,',\n",
       " 'the',\n",
       " 'seventh-largest',\n",
       " 'country',\n",
       " 'by',\n",
       " 'land',\n",
       " 'area,',\n",
       " 'and',\n",
       " 'the',\n",
       " 'most',\n",
       " 'populous',\n",
       " 'democracy',\n",
       " 'in',\n",
       " 'the',\n",
       " 'world.',\n",
       " 'Bounded',\n",
       " 'by',\n",
       " 'the',\n",
       " 'Indian',\n",
       " 'Ocean',\n",
       " 'on',\n",
       " 'the',\n",
       " 'south,',\n",
       " 'the',\n",
       " 'Arabian',\n",
       " 'Sea',\n",
       " 'on',\n",
       " 'the',\n",
       " 'southwest,',\n",
       " 'and',\n",
       " 'the',\n",
       " 'Bay',\n",
       " 'of',\n",
       " 'Bengal',\n",
       " 'on',\n",
       " 'the',\n",
       " 'southeast,',\n",
       " 'it',\n",
       " 'shares',\n",
       " 'land',\n",
       " 'borders',\n",
       " 'with',\n",
       " 'Pakistan',\n",
       " 'to',\n",
       " 'the',\n",
       " 'west;',\n",
       " 'China,',\n",
       " 'Nepal,',\n",
       " 'and',\n",
       " 'Bhutan',\n",
       " 'to',\n",
       " 'the',\n",
       " 'north;',\n",
       " 'and',\n",
       " 'Bangladesh',\n",
       " 'and',\n",
       " 'Myanmar',\n",
       " 'to',\n",
       " 'the',\n",
       " 'east.']"
      ]
     },
     "execution_count": 61,
     "metadata": {},
     "output_type": "execute_result"
    }
   ],
   "source": [
    "#spliting\n",
    "\n",
    "text.split()"
   ]
  },
  {
   "cell_type": "code",
   "execution_count": 62,
   "id": "5afe0961",
   "metadata": {},
   "outputs": [],
   "source": [
    "from nltk.tokenize import word_tokenize"
   ]
  },
  {
   "cell_type": "code",
   "execution_count": 63,
   "id": "195a1f20",
   "metadata": {},
   "outputs": [],
   "source": [
    "token = word_tokenize(text)"
   ]
  },
  {
   "cell_type": "code",
   "execution_count": 64,
   "id": "183541e7",
   "metadata": {},
   "outputs": [
    {
     "name": "stdout",
     "output_type": "stream",
     "text": [
      "['India', ',', 'officially', 'the', 'Republic', 'of', 'India', 'is', 'a', 'country', 'in', 'South', 'Asia', '.', 'It', 'is', 'the', 'second-most', 'populous', 'country', ',', 'the', 'seventh-largest', 'country', 'by', 'land', 'area', ',', 'and', 'the', 'most', 'populous', 'democracy', 'in', 'the', 'world', '.', 'Bounded', 'by', 'the', 'Indian', 'Ocean', 'on', 'the', 'south', ',', 'the', 'Arabian', 'Sea', 'on', 'the', 'southwest', ',', 'and', 'the', 'Bay', 'of', 'Bengal', 'on', 'the', 'southeast', ',', 'it', 'shares', 'land', 'borders', 'with', 'Pakistan', 'to', 'the', 'west', ';', 'China', ',', 'Nepal', ',', 'and', 'Bhutan', 'to', 'the', 'north', ';', 'and', 'Bangladesh', 'and', 'Myanmar', 'to', 'the', 'east', '.']\n"
     ]
    }
   ],
   "source": [
    "print(token)"
   ]
  },
  {
   "cell_type": "code",
   "execution_count": 65,
   "id": "a0751354",
   "metadata": {},
   "outputs": [],
   "source": [
    "#finding frequency\n",
    "\n",
    "from nltk.probability import FreqDist"
   ]
  },
  {
   "cell_type": "code",
   "execution_count": 66,
   "id": "a26adcb1",
   "metadata": {},
   "outputs": [],
   "source": [
    "fdist = FreqDist(token)"
   ]
  },
  {
   "cell_type": "code",
   "execution_count": 67,
   "id": "6f95a532",
   "metadata": {},
   "outputs": [
    {
     "data": {
      "text/plain": [
       "FreqDist({'the': 14, ',': 8, 'and': 5, 'country': 3, '.': 3, 'on': 3, 'to': 3, 'India': 2, 'of': 2, 'is': 2, ...})"
      ]
     },
     "execution_count": 67,
     "metadata": {},
     "output_type": "execute_result"
    }
   ],
   "source": [
    "fdist"
   ]
  },
  {
   "cell_type": "code",
   "execution_count": 68,
   "id": "8b2a2a80",
   "metadata": {},
   "outputs": [],
   "source": [
    "# most common\n",
    "\n",
    "fdist1 = fdist.most_common(5)"
   ]
  },
  {
   "cell_type": "code",
   "execution_count": 69,
   "id": "79c0cb94",
   "metadata": {},
   "outputs": [
    {
     "data": {
      "text/plain": [
       "[('the', 14), (',', 8), ('and', 5), ('country', 3), ('.', 3)]"
      ]
     },
     "execution_count": 69,
     "metadata": {},
     "output_type": "execute_result"
    }
   ],
   "source": [
    "fdist1"
   ]
  },
  {
   "cell_type": "code",
   "execution_count": 70,
   "id": "feb58372",
   "metadata": {},
   "outputs": [],
   "source": [
    "#N-Grams\n",
    "\n",
    "import textblob\n",
    "\n",
    "from textblob import TextBlob"
   ]
  },
  {
   "cell_type": "code",
   "execution_count": 71,
   "id": "df7e8ea5",
   "metadata": {},
   "outputs": [
    {
     "data": {
      "text/plain": [
       "[WordList(['India', 'officially']),\n",
       " WordList(['officially', 'the']),\n",
       " WordList(['the', 'Republic']),\n",
       " WordList(['Republic', 'of']),\n",
       " WordList(['of', 'India']),\n",
       " WordList(['India', 'is']),\n",
       " WordList(['is', 'a']),\n",
       " WordList(['a', 'country']),\n",
       " WordList(['country', 'in']),\n",
       " WordList(['in', 'South']),\n",
       " WordList(['South', 'Asia']),\n",
       " WordList(['Asia', 'It']),\n",
       " WordList(['It', 'is']),\n",
       " WordList(['is', 'the']),\n",
       " WordList(['the', 'second-most']),\n",
       " WordList(['second-most', 'populous']),\n",
       " WordList(['populous', 'country']),\n",
       " WordList(['country', 'the']),\n",
       " WordList(['the', 'seventh-largest']),\n",
       " WordList(['seventh-largest', 'country']),\n",
       " WordList(['country', 'by']),\n",
       " WordList(['by', 'land']),\n",
       " WordList(['land', 'area']),\n",
       " WordList(['area', 'and']),\n",
       " WordList(['and', 'the']),\n",
       " WordList(['the', 'most']),\n",
       " WordList(['most', 'populous']),\n",
       " WordList(['populous', 'democracy']),\n",
       " WordList(['democracy', 'in']),\n",
       " WordList(['in', 'the']),\n",
       " WordList(['the', 'world']),\n",
       " WordList(['world', 'Bounded']),\n",
       " WordList(['Bounded', 'by']),\n",
       " WordList(['by', 'the']),\n",
       " WordList(['the', 'Indian']),\n",
       " WordList(['Indian', 'Ocean']),\n",
       " WordList(['Ocean', 'on']),\n",
       " WordList(['on', 'the']),\n",
       " WordList(['the', 'south']),\n",
       " WordList(['south', 'the']),\n",
       " WordList(['the', 'Arabian']),\n",
       " WordList(['Arabian', 'Sea']),\n",
       " WordList(['Sea', 'on']),\n",
       " WordList(['on', 'the']),\n",
       " WordList(['the', 'southwest']),\n",
       " WordList(['southwest', 'and']),\n",
       " WordList(['and', 'the']),\n",
       " WordList(['the', 'Bay']),\n",
       " WordList(['Bay', 'of']),\n",
       " WordList(['of', 'Bengal']),\n",
       " WordList(['Bengal', 'on']),\n",
       " WordList(['on', 'the']),\n",
       " WordList(['the', 'southeast']),\n",
       " WordList(['southeast', 'it']),\n",
       " WordList(['it', 'shares']),\n",
       " WordList(['shares', 'land']),\n",
       " WordList(['land', 'borders']),\n",
       " WordList(['borders', 'with']),\n",
       " WordList(['with', 'Pakistan']),\n",
       " WordList(['Pakistan', 'to']),\n",
       " WordList(['to', 'the']),\n",
       " WordList(['the', 'west']),\n",
       " WordList(['west', 'China']),\n",
       " WordList(['China', 'Nepal']),\n",
       " WordList(['Nepal', 'and']),\n",
       " WordList(['and', 'Bhutan']),\n",
       " WordList(['Bhutan', 'to']),\n",
       " WordList(['to', 'the']),\n",
       " WordList(['the', 'north']),\n",
       " WordList(['north', 'and']),\n",
       " WordList(['and', 'Bangladesh']),\n",
       " WordList(['Bangladesh', 'and']),\n",
       " WordList(['and', 'Myanmar']),\n",
       " WordList(['Myanmar', 'to']),\n",
       " WordList(['to', 'the']),\n",
       " WordList(['the', 'east'])]"
      ]
     },
     "execution_count": 71,
     "metadata": {},
     "output_type": "execute_result"
    }
   ],
   "source": [
    "TextBlob(text).ngrams(2)"
   ]
  },
  {
   "cell_type": "code",
   "execution_count": 72,
   "id": "46f1c893",
   "metadata": {},
   "outputs": [
    {
     "data": {
      "text/plain": [
       "[WordList(['India', 'officially', 'the']),\n",
       " WordList(['officially', 'the', 'Republic']),\n",
       " WordList(['the', 'Republic', 'of']),\n",
       " WordList(['Republic', 'of', 'India']),\n",
       " WordList(['of', 'India', 'is']),\n",
       " WordList(['India', 'is', 'a']),\n",
       " WordList(['is', 'a', 'country']),\n",
       " WordList(['a', 'country', 'in']),\n",
       " WordList(['country', 'in', 'South']),\n",
       " WordList(['in', 'South', 'Asia']),\n",
       " WordList(['South', 'Asia', 'It']),\n",
       " WordList(['Asia', 'It', 'is']),\n",
       " WordList(['It', 'is', 'the']),\n",
       " WordList(['is', 'the', 'second-most']),\n",
       " WordList(['the', 'second-most', 'populous']),\n",
       " WordList(['second-most', 'populous', 'country']),\n",
       " WordList(['populous', 'country', 'the']),\n",
       " WordList(['country', 'the', 'seventh-largest']),\n",
       " WordList(['the', 'seventh-largest', 'country']),\n",
       " WordList(['seventh-largest', 'country', 'by']),\n",
       " WordList(['country', 'by', 'land']),\n",
       " WordList(['by', 'land', 'area']),\n",
       " WordList(['land', 'area', 'and']),\n",
       " WordList(['area', 'and', 'the']),\n",
       " WordList(['and', 'the', 'most']),\n",
       " WordList(['the', 'most', 'populous']),\n",
       " WordList(['most', 'populous', 'democracy']),\n",
       " WordList(['populous', 'democracy', 'in']),\n",
       " WordList(['democracy', 'in', 'the']),\n",
       " WordList(['in', 'the', 'world']),\n",
       " WordList(['the', 'world', 'Bounded']),\n",
       " WordList(['world', 'Bounded', 'by']),\n",
       " WordList(['Bounded', 'by', 'the']),\n",
       " WordList(['by', 'the', 'Indian']),\n",
       " WordList(['the', 'Indian', 'Ocean']),\n",
       " WordList(['Indian', 'Ocean', 'on']),\n",
       " WordList(['Ocean', 'on', 'the']),\n",
       " WordList(['on', 'the', 'south']),\n",
       " WordList(['the', 'south', 'the']),\n",
       " WordList(['south', 'the', 'Arabian']),\n",
       " WordList(['the', 'Arabian', 'Sea']),\n",
       " WordList(['Arabian', 'Sea', 'on']),\n",
       " WordList(['Sea', 'on', 'the']),\n",
       " WordList(['on', 'the', 'southwest']),\n",
       " WordList(['the', 'southwest', 'and']),\n",
       " WordList(['southwest', 'and', 'the']),\n",
       " WordList(['and', 'the', 'Bay']),\n",
       " WordList(['the', 'Bay', 'of']),\n",
       " WordList(['Bay', 'of', 'Bengal']),\n",
       " WordList(['of', 'Bengal', 'on']),\n",
       " WordList(['Bengal', 'on', 'the']),\n",
       " WordList(['on', 'the', 'southeast']),\n",
       " WordList(['the', 'southeast', 'it']),\n",
       " WordList(['southeast', 'it', 'shares']),\n",
       " WordList(['it', 'shares', 'land']),\n",
       " WordList(['shares', 'land', 'borders']),\n",
       " WordList(['land', 'borders', 'with']),\n",
       " WordList(['borders', 'with', 'Pakistan']),\n",
       " WordList(['with', 'Pakistan', 'to']),\n",
       " WordList(['Pakistan', 'to', 'the']),\n",
       " WordList(['to', 'the', 'west']),\n",
       " WordList(['the', 'west', 'China']),\n",
       " WordList(['west', 'China', 'Nepal']),\n",
       " WordList(['China', 'Nepal', 'and']),\n",
       " WordList(['Nepal', 'and', 'Bhutan']),\n",
       " WordList(['and', 'Bhutan', 'to']),\n",
       " WordList(['Bhutan', 'to', 'the']),\n",
       " WordList(['to', 'the', 'north']),\n",
       " WordList(['the', 'north', 'and']),\n",
       " WordList(['north', 'and', 'Bangladesh']),\n",
       " WordList(['and', 'Bangladesh', 'and']),\n",
       " WordList(['Bangladesh', 'and', 'Myanmar']),\n",
       " WordList(['and', 'Myanmar', 'to']),\n",
       " WordList(['Myanmar', 'to', 'the']),\n",
       " WordList(['to', 'the', 'east'])]"
      ]
     },
     "execution_count": 72,
     "metadata": {},
     "output_type": "execute_result"
    }
   ],
   "source": [
    "TextBlob(text).ngrams(3)"
   ]
  },
  {
   "cell_type": "code",
   "execution_count": 73,
   "id": "dba9d5d0",
   "metadata": {},
   "outputs": [
    {
     "data": {
      "text/plain": [
       "[WordList(['India', 'officially', 'the', 'Republic']),\n",
       " WordList(['officially', 'the', 'Republic', 'of']),\n",
       " WordList(['the', 'Republic', 'of', 'India']),\n",
       " WordList(['Republic', 'of', 'India', 'is']),\n",
       " WordList(['of', 'India', 'is', 'a']),\n",
       " WordList(['India', 'is', 'a', 'country']),\n",
       " WordList(['is', 'a', 'country', 'in']),\n",
       " WordList(['a', 'country', 'in', 'South']),\n",
       " WordList(['country', 'in', 'South', 'Asia']),\n",
       " WordList(['in', 'South', 'Asia', 'It']),\n",
       " WordList(['South', 'Asia', 'It', 'is']),\n",
       " WordList(['Asia', 'It', 'is', 'the']),\n",
       " WordList(['It', 'is', 'the', 'second-most']),\n",
       " WordList(['is', 'the', 'second-most', 'populous']),\n",
       " WordList(['the', 'second-most', 'populous', 'country']),\n",
       " WordList(['second-most', 'populous', 'country', 'the']),\n",
       " WordList(['populous', 'country', 'the', 'seventh-largest']),\n",
       " WordList(['country', 'the', 'seventh-largest', 'country']),\n",
       " WordList(['the', 'seventh-largest', 'country', 'by']),\n",
       " WordList(['seventh-largest', 'country', 'by', 'land']),\n",
       " WordList(['country', 'by', 'land', 'area']),\n",
       " WordList(['by', 'land', 'area', 'and']),\n",
       " WordList(['land', 'area', 'and', 'the']),\n",
       " WordList(['area', 'and', 'the', 'most']),\n",
       " WordList(['and', 'the', 'most', 'populous']),\n",
       " WordList(['the', 'most', 'populous', 'democracy']),\n",
       " WordList(['most', 'populous', 'democracy', 'in']),\n",
       " WordList(['populous', 'democracy', 'in', 'the']),\n",
       " WordList(['democracy', 'in', 'the', 'world']),\n",
       " WordList(['in', 'the', 'world', 'Bounded']),\n",
       " WordList(['the', 'world', 'Bounded', 'by']),\n",
       " WordList(['world', 'Bounded', 'by', 'the']),\n",
       " WordList(['Bounded', 'by', 'the', 'Indian']),\n",
       " WordList(['by', 'the', 'Indian', 'Ocean']),\n",
       " WordList(['the', 'Indian', 'Ocean', 'on']),\n",
       " WordList(['Indian', 'Ocean', 'on', 'the']),\n",
       " WordList(['Ocean', 'on', 'the', 'south']),\n",
       " WordList(['on', 'the', 'south', 'the']),\n",
       " WordList(['the', 'south', 'the', 'Arabian']),\n",
       " WordList(['south', 'the', 'Arabian', 'Sea']),\n",
       " WordList(['the', 'Arabian', 'Sea', 'on']),\n",
       " WordList(['Arabian', 'Sea', 'on', 'the']),\n",
       " WordList(['Sea', 'on', 'the', 'southwest']),\n",
       " WordList(['on', 'the', 'southwest', 'and']),\n",
       " WordList(['the', 'southwest', 'and', 'the']),\n",
       " WordList(['southwest', 'and', 'the', 'Bay']),\n",
       " WordList(['and', 'the', 'Bay', 'of']),\n",
       " WordList(['the', 'Bay', 'of', 'Bengal']),\n",
       " WordList(['Bay', 'of', 'Bengal', 'on']),\n",
       " WordList(['of', 'Bengal', 'on', 'the']),\n",
       " WordList(['Bengal', 'on', 'the', 'southeast']),\n",
       " WordList(['on', 'the', 'southeast', 'it']),\n",
       " WordList(['the', 'southeast', 'it', 'shares']),\n",
       " WordList(['southeast', 'it', 'shares', 'land']),\n",
       " WordList(['it', 'shares', 'land', 'borders']),\n",
       " WordList(['shares', 'land', 'borders', 'with']),\n",
       " WordList(['land', 'borders', 'with', 'Pakistan']),\n",
       " WordList(['borders', 'with', 'Pakistan', 'to']),\n",
       " WordList(['with', 'Pakistan', 'to', 'the']),\n",
       " WordList(['Pakistan', 'to', 'the', 'west']),\n",
       " WordList(['to', 'the', 'west', 'China']),\n",
       " WordList(['the', 'west', 'China', 'Nepal']),\n",
       " WordList(['west', 'China', 'Nepal', 'and']),\n",
       " WordList(['China', 'Nepal', 'and', 'Bhutan']),\n",
       " WordList(['Nepal', 'and', 'Bhutan', 'to']),\n",
       " WordList(['and', 'Bhutan', 'to', 'the']),\n",
       " WordList(['Bhutan', 'to', 'the', 'north']),\n",
       " WordList(['to', 'the', 'north', 'and']),\n",
       " WordList(['the', 'north', 'and', 'Bangladesh']),\n",
       " WordList(['north', 'and', 'Bangladesh', 'and']),\n",
       " WordList(['and', 'Bangladesh', 'and', 'Myanmar']),\n",
       " WordList(['Bangladesh', 'and', 'Myanmar', 'to']),\n",
       " WordList(['and', 'Myanmar', 'to', 'the']),\n",
       " WordList(['Myanmar', 'to', 'the', 'east'])]"
      ]
     },
     "execution_count": 73,
     "metadata": {},
     "output_type": "execute_result"
    }
   ],
   "source": [
    "TextBlob(text).ngrams(4)"
   ]
  },
  {
   "cell_type": "code",
   "execution_count": 74,
   "id": "93c7161d",
   "metadata": {},
   "outputs": [
    {
     "data": {
      "text/plain": [
       "[WordList(['India', 'officially', 'the', 'Republic', 'of']),\n",
       " WordList(['officially', 'the', 'Republic', 'of', 'India']),\n",
       " WordList(['the', 'Republic', 'of', 'India', 'is']),\n",
       " WordList(['Republic', 'of', 'India', 'is', 'a']),\n",
       " WordList(['of', 'India', 'is', 'a', 'country']),\n",
       " WordList(['India', 'is', 'a', 'country', 'in']),\n",
       " WordList(['is', 'a', 'country', 'in', 'South']),\n",
       " WordList(['a', 'country', 'in', 'South', 'Asia']),\n",
       " WordList(['country', 'in', 'South', 'Asia', 'It']),\n",
       " WordList(['in', 'South', 'Asia', 'It', 'is']),\n",
       " WordList(['South', 'Asia', 'It', 'is', 'the']),\n",
       " WordList(['Asia', 'It', 'is', 'the', 'second-most']),\n",
       " WordList(['It', 'is', 'the', 'second-most', 'populous']),\n",
       " WordList(['is', 'the', 'second-most', 'populous', 'country']),\n",
       " WordList(['the', 'second-most', 'populous', 'country', 'the']),\n",
       " WordList(['second-most', 'populous', 'country', 'the', 'seventh-largest']),\n",
       " WordList(['populous', 'country', 'the', 'seventh-largest', 'country']),\n",
       " WordList(['country', 'the', 'seventh-largest', 'country', 'by']),\n",
       " WordList(['the', 'seventh-largest', 'country', 'by', 'land']),\n",
       " WordList(['seventh-largest', 'country', 'by', 'land', 'area']),\n",
       " WordList(['country', 'by', 'land', 'area', 'and']),\n",
       " WordList(['by', 'land', 'area', 'and', 'the']),\n",
       " WordList(['land', 'area', 'and', 'the', 'most']),\n",
       " WordList(['area', 'and', 'the', 'most', 'populous']),\n",
       " WordList(['and', 'the', 'most', 'populous', 'democracy']),\n",
       " WordList(['the', 'most', 'populous', 'democracy', 'in']),\n",
       " WordList(['most', 'populous', 'democracy', 'in', 'the']),\n",
       " WordList(['populous', 'democracy', 'in', 'the', 'world']),\n",
       " WordList(['democracy', 'in', 'the', 'world', 'Bounded']),\n",
       " WordList(['in', 'the', 'world', 'Bounded', 'by']),\n",
       " WordList(['the', 'world', 'Bounded', 'by', 'the']),\n",
       " WordList(['world', 'Bounded', 'by', 'the', 'Indian']),\n",
       " WordList(['Bounded', 'by', 'the', 'Indian', 'Ocean']),\n",
       " WordList(['by', 'the', 'Indian', 'Ocean', 'on']),\n",
       " WordList(['the', 'Indian', 'Ocean', 'on', 'the']),\n",
       " WordList(['Indian', 'Ocean', 'on', 'the', 'south']),\n",
       " WordList(['Ocean', 'on', 'the', 'south', 'the']),\n",
       " WordList(['on', 'the', 'south', 'the', 'Arabian']),\n",
       " WordList(['the', 'south', 'the', 'Arabian', 'Sea']),\n",
       " WordList(['south', 'the', 'Arabian', 'Sea', 'on']),\n",
       " WordList(['the', 'Arabian', 'Sea', 'on', 'the']),\n",
       " WordList(['Arabian', 'Sea', 'on', 'the', 'southwest']),\n",
       " WordList(['Sea', 'on', 'the', 'southwest', 'and']),\n",
       " WordList(['on', 'the', 'southwest', 'and', 'the']),\n",
       " WordList(['the', 'southwest', 'and', 'the', 'Bay']),\n",
       " WordList(['southwest', 'and', 'the', 'Bay', 'of']),\n",
       " WordList(['and', 'the', 'Bay', 'of', 'Bengal']),\n",
       " WordList(['the', 'Bay', 'of', 'Bengal', 'on']),\n",
       " WordList(['Bay', 'of', 'Bengal', 'on', 'the']),\n",
       " WordList(['of', 'Bengal', 'on', 'the', 'southeast']),\n",
       " WordList(['Bengal', 'on', 'the', 'southeast', 'it']),\n",
       " WordList(['on', 'the', 'southeast', 'it', 'shares']),\n",
       " WordList(['the', 'southeast', 'it', 'shares', 'land']),\n",
       " WordList(['southeast', 'it', 'shares', 'land', 'borders']),\n",
       " WordList(['it', 'shares', 'land', 'borders', 'with']),\n",
       " WordList(['shares', 'land', 'borders', 'with', 'Pakistan']),\n",
       " WordList(['land', 'borders', 'with', 'Pakistan', 'to']),\n",
       " WordList(['borders', 'with', 'Pakistan', 'to', 'the']),\n",
       " WordList(['with', 'Pakistan', 'to', 'the', 'west']),\n",
       " WordList(['Pakistan', 'to', 'the', 'west', 'China']),\n",
       " WordList(['to', 'the', 'west', 'China', 'Nepal']),\n",
       " WordList(['the', 'west', 'China', 'Nepal', 'and']),\n",
       " WordList(['west', 'China', 'Nepal', 'and', 'Bhutan']),\n",
       " WordList(['China', 'Nepal', 'and', 'Bhutan', 'to']),\n",
       " WordList(['Nepal', 'and', 'Bhutan', 'to', 'the']),\n",
       " WordList(['and', 'Bhutan', 'to', 'the', 'north']),\n",
       " WordList(['Bhutan', 'to', 'the', 'north', 'and']),\n",
       " WordList(['to', 'the', 'north', 'and', 'Bangladesh']),\n",
       " WordList(['the', 'north', 'and', 'Bangladesh', 'and']),\n",
       " WordList(['north', 'and', 'Bangladesh', 'and', 'Myanmar']),\n",
       " WordList(['and', 'Bangladesh', 'and', 'Myanmar', 'to']),\n",
       " WordList(['Bangladesh', 'and', 'Myanmar', 'to', 'the']),\n",
       " WordList(['and', 'Myanmar', 'to', 'the', 'east'])]"
      ]
     },
     "execution_count": 74,
     "metadata": {},
     "output_type": "execute_result"
    }
   ],
   "source": [
    "TextBlob(text).ngrams(5)"
   ]
  },
  {
   "cell_type": "code",
   "execution_count": 75,
   "id": "a4670b8f",
   "metadata": {},
   "outputs": [],
   "source": [
    "#Stemming\n",
    "\n",
    "from nltk.stem import PorterStemmer"
   ]
  },
  {
   "cell_type": "code",
   "execution_count": 76,
   "id": "68183606",
   "metadata": {},
   "outputs": [],
   "source": [
    "pst = PorterStemmer()"
   ]
  },
  {
   "cell_type": "code",
   "execution_count": 77,
   "id": "c71316fc",
   "metadata": {},
   "outputs": [
    {
     "data": {
      "text/plain": [
       "'play'"
      ]
     },
     "execution_count": 77,
     "metadata": {},
     "output_type": "execute_result"
    }
   ],
   "source": [
    "pst.stem('playing')"
   ]
  },
  {
   "cell_type": "code",
   "execution_count": 78,
   "id": "086ed5aa",
   "metadata": {},
   "outputs": [
    {
     "data": {
      "text/plain": [
       "'play'"
      ]
     },
     "execution_count": 78,
     "metadata": {},
     "output_type": "execute_result"
    }
   ],
   "source": [
    "pst.stem('plays')"
   ]
  },
  {
   "cell_type": "code",
   "execution_count": 79,
   "id": "87342b5b",
   "metadata": {},
   "outputs": [
    {
     "data": {
      "text/plain": [
       "'game'"
      ]
     },
     "execution_count": 79,
     "metadata": {},
     "output_type": "execute_result"
    }
   ],
   "source": [
    "pst.stem('gaming')"
   ]
  },
  {
   "cell_type": "code",
   "execution_count": 80,
   "id": "0c9c8a7f",
   "metadata": {},
   "outputs": [
    {
     "data": {
      "text/plain": [
       "'game'"
      ]
     },
     "execution_count": 80,
     "metadata": {},
     "output_type": "execute_result"
    }
   ],
   "source": [
    "pst.stem('games')"
   ]
  },
  {
   "cell_type": "code",
   "execution_count": 81,
   "id": "a11e9f5b",
   "metadata": {},
   "outputs": [
    {
     "data": {
      "text/plain": [
       "'fund'"
      ]
     },
     "execution_count": 81,
     "metadata": {},
     "output_type": "execute_result"
    }
   ],
   "source": [
    "pst.stem('funding')"
   ]
  },
  {
   "cell_type": "code",
   "execution_count": 82,
   "id": "6ffff2e6",
   "metadata": {},
   "outputs": [
    {
     "data": {
      "text/plain": [
       "'send'"
      ]
     },
     "execution_count": 82,
     "metadata": {},
     "output_type": "execute_result"
    }
   ],
   "source": [
    "pst.stem('sends')"
   ]
  },
  {
   "cell_type": "code",
   "execution_count": 83,
   "id": "713a5eaa",
   "metadata": {},
   "outputs": [
    {
     "data": {
      "text/plain": [
       "'play'"
      ]
     },
     "execution_count": 83,
     "metadata": {},
     "output_type": "execute_result"
    }
   ],
   "source": [
    "pst.stem('played')"
   ]
  },
  {
   "cell_type": "code",
   "execution_count": 84,
   "id": "2cf28c2a",
   "metadata": {},
   "outputs": [
    {
     "data": {
      "text/plain": [
       "'flash'"
      ]
     },
     "execution_count": 84,
     "metadata": {},
     "output_type": "execute_result"
    }
   ],
   "source": [
    "pst.stem('flashing')"
   ]
  },
  {
   "cell_type": "code",
   "execution_count": 85,
   "id": "7b396eb5",
   "metadata": {},
   "outputs": [
    {
     "data": {
      "text/plain": [
       "'flash'"
      ]
     },
     "execution_count": 85,
     "metadata": {},
     "output_type": "execute_result"
    }
   ],
   "source": [
    "pst.stem('flashes')"
   ]
  },
  {
   "cell_type": "code",
   "execution_count": 86,
   "id": "2ec298c9",
   "metadata": {},
   "outputs": [
    {
     "data": {
      "text/plain": [
       "'studi'"
      ]
     },
     "execution_count": 86,
     "metadata": {},
     "output_type": "execute_result"
    }
   ],
   "source": [
    "pst.stem('studying')"
   ]
  },
  {
   "cell_type": "code",
   "execution_count": 87,
   "id": "46478658",
   "metadata": {},
   "outputs": [
    {
     "data": {
      "text/plain": [
       "'knive'"
      ]
     },
     "execution_count": 87,
     "metadata": {},
     "output_type": "execute_result"
    }
   ],
   "source": [
    "pst.stem('knives')"
   ]
  },
  {
   "cell_type": "code",
   "execution_count": 88,
   "id": "a488a7c7",
   "metadata": {},
   "outputs": [],
   "source": [
    "from nltk.stem import WordNetLemmatizer"
   ]
  },
  {
   "cell_type": "code",
   "execution_count": 89,
   "id": "50901a31",
   "metadata": {},
   "outputs": [
    {
     "name": "stderr",
     "output_type": "stream",
     "text": [
      "[nltk_data] Downloading package wordnet to\n",
      "[nltk_data]     C:\\Users\\User\\AppData\\Roaming\\nltk_data...\n",
      "[nltk_data]   Package wordnet is already up-to-date!\n"
     ]
    },
    {
     "data": {
      "text/plain": [
       "True"
      ]
     },
     "execution_count": 89,
     "metadata": {},
     "output_type": "execute_result"
    }
   ],
   "source": [
    "nltk.download('wordnet')"
   ]
  },
  {
   "cell_type": "code",
   "execution_count": 90,
   "id": "d49b0818",
   "metadata": {},
   "outputs": [],
   "source": [
    "lmt = WordNetLemmatizer() "
   ]
  },
  {
   "cell_type": "code",
   "execution_count": 101,
   "id": "6bb61284",
   "metadata": {},
   "outputs": [
    {
     "data": {
      "text/plain": [
       "'knife'"
      ]
     },
     "execution_count": 101,
     "metadata": {},
     "output_type": "execute_result"
    }
   ],
   "source": [
    "lmt.lemmatize('knives')"
   ]
  },
  {
   "cell_type": "code",
   "execution_count": 102,
   "id": "750b1e64",
   "metadata": {},
   "outputs": [
    {
     "data": {
      "text/plain": [
       "'studying'"
      ]
     },
     "execution_count": 102,
     "metadata": {},
     "output_type": "execute_result"
    }
   ],
   "source": [
    "lmt.lemmatize('studying')"
   ]
  },
  {
   "cell_type": "code",
   "execution_count": 103,
   "id": "a6745685",
   "metadata": {},
   "outputs": [
    {
     "data": {
      "text/plain": [
       "'written'"
      ]
     },
     "execution_count": 103,
     "metadata": {},
     "output_type": "execute_result"
    }
   ],
   "source": [
    "lmt.lemmatize('written')"
   ]
  },
  {
   "cell_type": "code",
   "execution_count": 93,
   "id": "37d7b1c0",
   "metadata": {},
   "outputs": [],
   "source": [
    "#stop words\n",
    "\n",
    "from nltk import word_tokenize\n",
    "from nltk.corpus import stopwords"
   ]
  },
  {
   "cell_type": "code",
   "execution_count": 94,
   "id": "6164da02",
   "metadata": {},
   "outputs": [
    {
     "name": "stderr",
     "output_type": "stream",
     "text": [
      "[nltk_data] Downloading package stopwords to\n",
      "[nltk_data]     C:\\Users\\User\\AppData\\Roaming\\nltk_data...\n",
      "[nltk_data]   Package stopwords is already up-to-date!\n"
     ]
    },
    {
     "data": {
      "text/plain": [
       "True"
      ]
     },
     "execution_count": 94,
     "metadata": {},
     "output_type": "execute_result"
    }
   ],
   "source": [
    "nltk.download('stopwords')"
   ]
  },
  {
   "cell_type": "code",
   "execution_count": 95,
   "id": "535c95a3",
   "metadata": {},
   "outputs": [],
   "source": [
    "a = set(stopwords.words('english'))"
   ]
  },
  {
   "cell_type": "code",
   "execution_count": 96,
   "id": "5c9b984f",
   "metadata": {},
   "outputs": [],
   "source": [
    "text1 = word_tokenize(text.lower())"
   ]
  },
  {
   "cell_type": "code",
   "execution_count": 97,
   "id": "fc5b8cb3",
   "metadata": {},
   "outputs": [
    {
     "name": "stdout",
     "output_type": "stream",
     "text": [
      "['india', ',', 'officially', 'the', 'republic', 'of', 'india', 'is', 'a', 'country', 'in', 'south', 'asia', '.', 'it', 'is', 'the', 'second-most', 'populous', 'country', ',', 'the', 'seventh-largest', 'country', 'by', 'land', 'area', ',', 'and', 'the', 'most', 'populous', 'democracy', 'in', 'the', 'world', '.', 'bounded', 'by', 'the', 'indian', 'ocean', 'on', 'the', 'south', ',', 'the', 'arabian', 'sea', 'on', 'the', 'southwest', ',', 'and', 'the', 'bay', 'of', 'bengal', 'on', 'the', 'southeast', ',', 'it', 'shares', 'land', 'borders', 'with', 'pakistan', 'to', 'the', 'west', ';', 'china', ',', 'nepal', ',', 'and', 'bhutan', 'to', 'the', 'north', ';', 'and', 'bangladesh', 'and', 'myanmar', 'to', 'the', 'east', '.']\n"
     ]
    }
   ],
   "source": [
    "print(text1)"
   ]
  },
  {
   "cell_type": "code",
   "execution_count": 98,
   "id": "c8260594",
   "metadata": {},
   "outputs": [],
   "source": [
    "stopwords = [x for x in text1 if x not in a]"
   ]
  },
  {
   "cell_type": "code",
   "execution_count": 99,
   "id": "17669546",
   "metadata": {},
   "outputs": [
    {
     "name": "stdout",
     "output_type": "stream",
     "text": [
      "['india', ',', 'officially', 'republic', 'india', 'country', 'south', 'asia', '.', 'second-most', 'populous', 'country', ',', 'seventh-largest', 'country', 'land', 'area', ',', 'populous', 'democracy', 'world', '.', 'bounded', 'indian', 'ocean', 'south', ',', 'arabian', 'sea', 'southwest', ',', 'bay', 'bengal', 'southeast', ',', 'shares', 'land', 'borders', 'pakistan', 'west', ';', 'china', ',', 'nepal', ',', 'bhutan', 'north', ';', 'bangladesh', 'myanmar', 'east', '.']\n"
     ]
    }
   ],
   "source": [
    "print(stopwords)"
   ]
  },
  {
   "cell_type": "code",
   "execution_count": null,
   "id": "550b3804",
   "metadata": {},
   "outputs": [],
   "source": []
  },
  {
   "cell_type": "code",
   "execution_count": 107,
   "id": "14b6795d",
   "metadata": {},
   "outputs": [
    {
     "ename": "ModuleNotFoundError",
     "evalue": "No module named 'wordcloud'",
     "output_type": "error",
     "traceback": [
      "\u001b[1;31m---------------------------------------------------------------------------\u001b[0m",
      "\u001b[1;31mModuleNotFoundError\u001b[0m                       Traceback (most recent call last)",
      "\u001b[1;32m~\\AppData\\Local\\Temp/ipykernel_32620/89690468.py\u001b[0m in \u001b[0;36m<module>\u001b[1;34m\u001b[0m\n\u001b[0;32m      1\u001b[0m \u001b[1;31m#Worldcloud\u001b[0m\u001b[1;33m\u001b[0m\u001b[1;33m\u001b[0m\u001b[1;33m\u001b[0m\u001b[0m\n\u001b[0;32m      2\u001b[0m \u001b[1;33m\u001b[0m\u001b[0m\n\u001b[1;32m----> 3\u001b[1;33m \u001b[1;32mfrom\u001b[0m \u001b[0mwordcloud\u001b[0m \u001b[1;32mimport\u001b[0m \u001b[0mWordCloud\u001b[0m\u001b[1;33m\u001b[0m\u001b[1;33m\u001b[0m\u001b[0m\n\u001b[0m",
      "\u001b[1;31mModuleNotFoundError\u001b[0m: No module named 'wordcloud'"
     ]
    }
   ],
   "source": [
    "#Worldcloud\n",
    "\n",
    "from wordcloud import WordCloud"
   ]
  },
  {
   "cell_type": "code",
   "execution_count": null,
   "id": "4e3ea790",
   "metadata": {},
   "outputs": [],
   "source": []
  }
 ],
 "metadata": {
  "kernelspec": {
   "display_name": "Python 3 (ipykernel)",
   "language": "python",
   "name": "python3"
  },
  "language_info": {
   "codemirror_mode": {
    "name": "ipython",
    "version": 3
   },
   "file_extension": ".py",
   "mimetype": "text/x-python",
   "name": "python",
   "nbconvert_exporter": "python",
   "pygments_lexer": "ipython3",
   "version": "3.9.6"
  }
 },
 "nbformat": 4,
 "nbformat_minor": 5
}
